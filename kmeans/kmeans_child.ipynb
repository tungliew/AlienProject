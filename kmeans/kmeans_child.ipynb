{
 "cells": [
  {
   "cell_type": "code",
   "execution_count": 1,
   "metadata": {},
   "outputs": [],
   "source": [
    "# 使用Kmeans对图像进行分割\n",
    "# @ Original Author: chen yang\n",
    "import numpy as np\n",
    "import PIL.Image as image\n",
    "from sklearn import preprocessing\n",
    "from sklearn.cluster import KMeans"
   ]
  },
  {
   "cell_type": "code",
   "execution_count": 3,
   "metadata": {},
   "outputs": [],
   "source": [
    "# 加载图像，对数据进行规范化\n",
    "def load_data(filePath):\n",
    "    file = open(filePath,\"rb\")\n",
    "    img = image.open(file) # 得到图像像素值\n",
    "    width, height = img.size # 得到图像尺寸\n",
    "    data = []\n",
    "    for x in range(width):\n",
    "        for y in range(height):\n",
    "            # 得到点(x,y)的三个通道值\n",
    "            c1,c2,c3 = img.getpixel((x,y))\n",
    "            data.append([c1,c2,c3])\n",
    "    file.close()\n",
    "    # 使用Min-Max进行规范化\n",
    "    scaler = preprocessing.MinMaxScaler()\n",
    "    data = scaler.fit_transform(data)\n",
    "    return np.mat(data),width,height"
   ]
  },
  {
   "cell_type": "code",
   "execution_count": 4,
   "metadata": {},
   "outputs": [],
   "source": [
    "# 加载图像，得到规范化的结果img，以及图像尺寸\n",
    "img, width, height = load_data(\"image.jpg\")"
   ]
  },
  {
   "cell_type": "code",
   "execution_count": 6,
   "metadata": {},
   "outputs": [
    {
     "data": {
      "image/png": "[encoded data removed]",
      "text/plain": [
       "<Figure size 432x288 with 1 Axes>"
      ]
     },
     "metadata": {
      "needs_background": "light"
     },
     "output_type": "display_data"
    }
   ],
   "source": [
    "# 改动：使用手肘法寻找k的合适值\n",
    "# 统计不同k取值的误差平方和\n",
    "import matplotlib.pyplot as plt\n",
    "sse = []\n",
    "for k in range(1,7):\n",
    "    kmeans = KMeans(n_clusters=k)\n",
    "    kmeans.fit(img)\n",
    "    # 计算inertia簇内误差平方和\n",
    "    sse.append(kmeans.inertia_)\n",
    "x = range(1,7)\n",
    "plt.xlabel(\"K\")\n",
    "plt.ylabel(\"SSE\")\n",
    "plt.plot(x,sse,'o-')\n",
    "plt.show()"
   ]
  },
  {
   "cell_type": "code",
   "execution_count": 7,
   "metadata": {},
   "outputs": [
    {
     "name": "stdout",
     "output_type": "stream",
     "text": [
      "生成分割结果\n"
     ]
    }
   ],
   "source": [
    "# 使用K-Means对图像进行2聚类\n",
    "kmeans = KMeans(n_clusters=2)\n",
    "kmeans.fit(img)\n",
    "label = kmeans.predict(img)\n",
    "print(\"生成分割结果\")\n",
    "label = label.reshape([width,height])\n",
    "pic_mark = image.new(\"L\",(width,height))\n",
    "for x in range(width):\n",
    "    for y in range(height):\n",
    "        pic_mark.putpixel((x,y),int(256/(label[x][y]+1))-1)\n",
    "pic_mark.save(\"image_kmeans.jpg\",\"JPEG\")"
   ]
  },
  {
   "cell_type": "code",
   "execution_count": null,
   "metadata": {},
   "outputs": [],
   "source": []
  }
 ],
 "metadata": {
  "kernelspec": {
   "display_name": "Python 3",
   "language": "python",
   "name": "python3"
  },
  "language_info": {
   "codemirror_mode": {
    "name": "ipython",
    "version": 3
   },
   "file_extension": ".py",
   "mimetype": "text/x-python",
   "name": "python",
   "nbconvert_exporter": "python",
   "pygments_lexer": "ipython3",
   "version": "3.7.4"
  }
 },
 "nbformat": 4,
 "nbformat_minor": 2
}
