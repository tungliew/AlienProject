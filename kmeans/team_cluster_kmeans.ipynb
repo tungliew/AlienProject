{
 "cells": [
  {
   "cell_type": "code",
   "execution_count": 1,
   "metadata": {},
   "outputs": [],
   "source": [
    "# 用KMeans方法对18支球队进行聚类分析"
   ]
  },
  {
   "cell_type": "code",
   "execution_count": 2,
   "metadata": {},
   "outputs": [],
   "source": [
    "# 导入数据\n",
    "import pandas as pd"
   ]
  },
  {
   "cell_type": "code",
   "execution_count": 16,
   "metadata": {},
   "outputs": [],
   "source": [
    "data = pd.read_csv(\"team_cluster.csv\",encoding=\"gbk\")"
   ]
  },
  {
   "cell_type": "code",
   "execution_count": 17,
   "metadata": {},
   "outputs": [
    {
     "name": "stdout",
     "output_type": "stream",
     "text": [
      "   国家  2019国际排名  2018世界杯排名  2015亚洲杯排名\n",
      "0  中国        73         40          7\n",
      "1  日本        60         15          5\n",
      "2  韩国        61         19          2\n",
      "3  伊朗        34         18          6\n",
      "4  沙特        67         26         10\n"
     ]
    }
   ],
   "source": [
    "print(data.head())"
   ]
  },
  {
   "cell_type": "code",
   "execution_count": 18,
   "metadata": {},
   "outputs": [],
   "source": [
    "train_x = data[[\"2019国际排名\",\"2018世界杯排名\",\"2015亚洲杯排名\"]]"
   ]
  },
  {
   "cell_type": "code",
   "execution_count": 19,
   "metadata": {},
   "outputs": [],
   "source": [
    "# 数据规范化\n",
    "from sklearn import preprocessing"
   ]
  },
  {
   "cell_type": "code",
   "execution_count": 20,
   "metadata": {},
   "outputs": [],
   "source": [
    "# 使用MaxMin规范化: 新数值=（原数值-极小值)/(极大值-极小值)\n",
    "scaler = preprocessing.MinMaxScaler()\n",
    "train_x = scaler.fit_transform(train_x)"
   ]
  },
  {
   "cell_type": "code",
   "execution_count": 21,
   "metadata": {},
   "outputs": [],
   "source": [
    "# 进行分类\n",
    "from sklearn.cluster import KMeans"
   ]
  },
  {
   "cell_type": "code",
   "execution_count": 22,
   "metadata": {},
   "outputs": [
    {
     "name": "stdout",
     "output_type": "stream",
     "text": [
      "[2 1 1 1 1 2 0 2 2 0 0 0 0 0 1 0 2 0]\n"
     ]
    }
   ],
   "source": [
    "kmeans = KMeans(n_clusters=3) # 聚成3类\n",
    "kmeans.fit(train_x)\n",
    "predict_y = kmeans.predict(train_x)\n",
    "print(predict_y)"
   ]
  },
  {
   "cell_type": "code",
   "execution_count": 23,
   "metadata": {},
   "outputs": [
    {
     "name": "stdout",
     "output_type": "stream",
     "text": [
      "        国家  2019国际排名  2018世界杯排名  2015亚洲杯排名  0\n",
      "0       中国        73         40          7  2\n",
      "1       日本        60         15          5  1\n",
      "2       韩国        61         19          2  1\n",
      "3       伊朗        34         18          6  1\n",
      "4       沙特        67         26         10  1\n",
      "5      伊拉克        91         40          4  2\n",
      "6      卡塔尔       101         40         13  0\n",
      "7      阿联酋        81         40          6  2\n",
      "8   乌兹别克斯坦        88         40          8  2\n",
      "9       泰国       122         40         17  0\n",
      "10      越南       102         50         17  0\n",
      "11      阿曼        87         50         12  0\n",
      "12      朝鲜       110         50         14  0\n",
      "13      印尼       164         50         17  0\n",
      "14      澳洲        40         30          1  1\n",
      "15     叙利亚        76         40         17  0\n",
      "16      约旦       118         50          9  2\n",
      "17     科威特       160         50         15  0\n"
     ]
    }
   ],
   "source": [
    "# 合并结果，添加到原来的数据中\n",
    "result = pd.concat((data,pd.DataFrame(predict_y)),axis=1)\n",
    "print(result)"
   ]
  },
  {
   "cell_type": "code",
   "execution_count": 24,
   "metadata": {},
   "outputs": [],
   "source": [
    "result.rename({0:u'结果'},axis=1,inplace=True)"
   ]
  },
  {
   "cell_type": "code",
   "execution_count": 25,
   "metadata": {},
   "outputs": [
    {
     "name": "stdout",
     "output_type": "stream",
     "text": [
      "        国家  2019国际排名  2018世界杯排名  2015亚洲杯排名  结果\n",
      "0       中国        73         40          7   2\n",
      "1       日本        60         15          5   1\n",
      "2       韩国        61         19          2   1\n",
      "3       伊朗        34         18          6   1\n",
      "4       沙特        67         26         10   1\n",
      "5      伊拉克        91         40          4   2\n",
      "6      卡塔尔       101         40         13   0\n",
      "7      阿联酋        81         40          6   2\n",
      "8   乌兹别克斯坦        88         40          8   2\n",
      "9       泰国       122         40         17   0\n",
      "10      越南       102         50         17   0\n",
      "11      阿曼        87         50         12   0\n",
      "12      朝鲜       110         50         14   0\n",
      "13      印尼       164         50         17   0\n",
      "14      澳洲        40         30          1   1\n",
      "15     叙利亚        76         40         17   0\n",
      "16      约旦       118         50          9   2\n",
      "17     科威特       160         50         15   0\n"
     ]
    }
   ],
   "source": [
    "print(result)"
   ]
  },
  {
   "cell_type": "code",
   "execution_count": 26,
   "metadata": {},
   "outputs": [],
   "source": [
    "# 最后结果导入到csv中\n",
    "result.to_csv(\"team_cluster_result.csv\")"
   ]
  },
  {
   "cell_type": "code",
   "execution_count": null,
   "metadata": {},
   "outputs": [],
   "source": []
  }
 ],
 "metadata": {
  "kernelspec": {
   "display_name": "Python 3",
   "language": "python",
   "name": "python3"
  },
  "language_info": {
   "codemirror_mode": {
    "name": "ipython",
    "version": 3
   },
   "file_extension": ".py",
   "mimetype": "text/x-python",
   "name": "python",
   "nbconvert_exporter": "python",
   "pygments_lexer": "ipython3",
   "version": "3.7.4"
  }
 },
 "nbformat": 4,
 "nbformat_minor": 2
}
