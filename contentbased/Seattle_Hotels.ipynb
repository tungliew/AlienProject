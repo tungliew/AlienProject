{
 "cells": [
  {
   "cell_type": "code",
   "execution_count": 1,
   "metadata": {},
   "outputs": [],
   "source": [
    "# 使用西雅图酒店数据集，对用户选中的酒店进行相关推荐\n",
    "# https://github.com/susanli2016/Machine-Learning-with-Python/blob/master/Seattle_Hotels.csv\n",
    "# 数据格式: name address desc"
   ]
  },
  {
   "cell_type": "code",
   "execution_count": 2,
   "metadata": {},
   "outputs": [],
   "source": [
    "import pandas as pd\n",
    "import numpy as np"
   ]
  },
  {
   "cell_type": "code",
   "execution_count": 3,
   "metadata": {},
   "outputs": [
    {
     "name": "stdout",
     "output_type": "stream",
     "text": [
      "                             name  \\\n",
      "0  Hilton Garden Seattle Downtown   \n",
      "1          Sheraton Grand Seattle   \n",
      "2   Crowne Plaza Seattle Downtown   \n",
      "3   Kimpton Hotel Monaco Seattle    \n",
      "4              The Westin Seattle   \n",
      "\n",
      "                                           address  \\\n",
      "0  1821 Boren Avenue, Seattle Washington 98101 USA   \n",
      "1   1400 6th Avenue, Seattle, Washington 98101 USA   \n",
      "2                  1113 6th Ave, Seattle, WA 98101   \n",
      "3                   1101 4th Ave, Seattle, WA98101   \n",
      "4   1900 5th Avenue, Seattle, Washington 98101 USA   \n",
      "\n",
      "                                                desc  \n",
      "0  Located on the southern tip of Lake Union, the...  \n",
      "1  Located in the city's vibrant core, the Sherat...  \n",
      "2  Located in the heart of downtown Seattle, the ...  \n",
      "3  What?s near our hotel downtown Seattle locatio...  \n",
      "4  Situated amid incredible shopping and iconic a...  \n",
      "152\n"
     ]
    }
   ],
   "source": [
    "# 数据探索\n",
    "df = pd.read_csv(\"Seattle_Hotels.csv\",encoding=\"latin-1\")\n",
    "print(df.head())\n",
    "print(len(df))"
   ]
  },
  {
   "cell_type": "code",
   "execution_count": 21,
   "metadata": {},
   "outputs": [
    {
     "name": "stdout",
     "output_type": "stream",
     "text": [
      "指定index的酒店的描述为：\n",
      "Located on the southern tip of Lake Union, the Hilton Garden Inn Seattle Downtown hotel is perfectly located for business and leisure. \n",
      "The neighborhood is home to numerous major international companies including Amazon, Google and the Bill & Melinda Gates Foundation. A wealth of eclectic restaurants and bars make this area of Seattle one of the most sought out by locals and visitors. Our proximity to Lake Union allows visitors to take in some of the Pacific Northwest's majestic scenery and enjoy outdoor activities like kayaking and sailing. over 2,000 sq. ft. of versatile space and a complimentary business center. State-of-the-art A/V technology and our helpful staff will guarantee your conference, cocktail reception or wedding is a success. Refresh in the sparkling saltwater pool, or energize with the latest equipment in the 24-hour fitness center. Tastefully decorated and flooded with natural light, our guest rooms and suites offer everything you need to relax and stay productive. Unwind in the bar, and enjoy American cuisine for breakfast, lunch and dinner in our restaurant. The 24-hour Pavilion Pantry? stocks a variety of snacks, drinks and sundries.\n",
      "Name:  Hilton Garden Seattle Downtown\n"
     ]
    }
   ],
   "source": [
    "# 得到指定酒店的desc\n",
    "def print_description(index):\n",
    "    hotel = df[df.index==index][['desc','name']].values[0]\n",
    "    if(len(hotel)>0):\n",
    "        print(hotel[0]) # desc\n",
    "        print(\"Name: \",hotel[1])\n",
    "print(\"指定index的酒店的描述为：\")\n",
    "print_description(0)"
   ]
  },
  {
   "cell_type": "code",
   "execution_count": 52,
   "metadata": {},
   "outputs": [
    {
     "name": "stderr",
     "output_type": "stream",
     "text": [
      "C:\\Users\\Administrator\\Anaconda3\\lib\\site-packages\\matplotlib\\backends\\backend_agg.py:211: RuntimeWarning: Glyph 21435 missing from current font.\n",
      "  font.set_text(s, 0.0, flags=flags)\n",
      "C:\\Users\\Administrator\\Anaconda3\\lib\\site-packages\\matplotlib\\backends\\backend_agg.py:211: RuntimeWarning: Glyph 25481 missing from current font.\n",
      "  font.set_text(s, 0.0, flags=flags)\n",
      "C:\\Users\\Administrator\\Anaconda3\\lib\\site-packages\\matplotlib\\backends\\backend_agg.py:211: RuntimeWarning: Glyph 20572 missing from current font.\n",
      "  font.set_text(s, 0.0, flags=flags)\n",
      "C:\\Users\\Administrator\\Anaconda3\\lib\\site-packages\\matplotlib\\backends\\backend_agg.py:211: RuntimeWarning: Glyph 29992 missing from current font.\n",
      "  font.set_text(s, 0.0, flags=flags)\n",
      "C:\\Users\\Administrator\\Anaconda3\\lib\\site-packages\\matplotlib\\backends\\backend_agg.py:211: RuntimeWarning: Glyph 35789 missing from current font.\n",
      "  font.set_text(s, 0.0, flags=flags)\n",
      "C:\\Users\\Administrator\\Anaconda3\\lib\\site-packages\\matplotlib\\backends\\backend_agg.py:211: RuntimeWarning: Glyph 21518 missing from current font.\n",
      "  font.set_text(s, 0.0, flags=flags)\n",
      "C:\\Users\\Administrator\\Anaconda3\\lib\\site-packages\\matplotlib\\backends\\backend_agg.py:211: RuntimeWarning: Glyph 65292 missing from current font.\n",
      "  font.set_text(s, 0.0, flags=flags)\n",
      "C:\\Users\\Administrator\\Anaconda3\\lib\\site-packages\\matplotlib\\backends\\backend_agg.py:211: RuntimeWarning: Glyph 37202 missing from current font.\n",
      "  font.set_text(s, 0.0, flags=flags)\n",
      "C:\\Users\\Administrator\\Anaconda3\\lib\\site-packages\\matplotlib\\backends\\backend_agg.py:211: RuntimeWarning: Glyph 24215 missing from current font.\n",
      "  font.set_text(s, 0.0, flags=flags)\n",
      "C:\\Users\\Administrator\\Anaconda3\\lib\\site-packages\\matplotlib\\backends\\backend_agg.py:211: RuntimeWarning: Glyph 25551 missing from current font.\n",
      "  font.set_text(s, 0.0, flags=flags)\n",
      "C:\\Users\\Administrator\\Anaconda3\\lib\\site-packages\\matplotlib\\backends\\backend_agg.py:211: RuntimeWarning: Glyph 36848 missing from current font.\n",
      "  font.set_text(s, 0.0, flags=flags)\n",
      "C:\\Users\\Administrator\\Anaconda3\\lib\\site-packages\\matplotlib\\backends\\backend_agg.py:211: RuntimeWarning: Glyph 20013 missing from current font.\n",
      "  font.set_text(s, 0.0, flags=flags)\n",
      "C:\\Users\\Administrator\\Anaconda3\\lib\\site-packages\\matplotlib\\backends\\backend_agg.py:211: RuntimeWarning: Glyph 30340 missing from current font.\n",
      "  font.set_text(s, 0.0, flags=flags)\n",
      "C:\\Users\\Administrator\\Anaconda3\\lib\\site-packages\\matplotlib\\backends\\backend_agg.py:211: RuntimeWarning: Glyph 21333 missing from current font.\n",
      "  font.set_text(s, 0.0, flags=flags)\n",
      "C:\\Users\\Administrator\\Anaconda3\\lib\\site-packages\\matplotlib\\backends\\backend_agg.py:180: RuntimeWarning: Glyph 21435 missing from current font.\n",
      "  font.set_text(s, 0, flags=flags)\n",
      "C:\\Users\\Administrator\\Anaconda3\\lib\\site-packages\\matplotlib\\backends\\backend_agg.py:180: RuntimeWarning: Glyph 25481 missing from current font.\n",
      "  font.set_text(s, 0, flags=flags)\n",
      "C:\\Users\\Administrator\\Anaconda3\\lib\\site-packages\\matplotlib\\backends\\backend_agg.py:180: RuntimeWarning: Glyph 20572 missing from current font.\n",
      "  font.set_text(s, 0, flags=flags)\n",
      "C:\\Users\\Administrator\\Anaconda3\\lib\\site-packages\\matplotlib\\backends\\backend_agg.py:180: RuntimeWarning: Glyph 29992 missing from current font.\n",
      "  font.set_text(s, 0, flags=flags)\n",
      "C:\\Users\\Administrator\\Anaconda3\\lib\\site-packages\\matplotlib\\backends\\backend_agg.py:180: RuntimeWarning: Glyph 35789 missing from current font.\n",
      "  font.set_text(s, 0, flags=flags)\n",
      "C:\\Users\\Administrator\\Anaconda3\\lib\\site-packages\\matplotlib\\backends\\backend_agg.py:180: RuntimeWarning: Glyph 21518 missing from current font.\n",
      "  font.set_text(s, 0, flags=flags)\n",
      "C:\\Users\\Administrator\\Anaconda3\\lib\\site-packages\\matplotlib\\backends\\backend_agg.py:180: RuntimeWarning: Glyph 65292 missing from current font.\n",
      "  font.set_text(s, 0, flags=flags)\n",
      "C:\\Users\\Administrator\\Anaconda3\\lib\\site-packages\\matplotlib\\backends\\backend_agg.py:180: RuntimeWarning: Glyph 37202 missing from current font.\n",
      "  font.set_text(s, 0, flags=flags)\n",
      "C:\\Users\\Administrator\\Anaconda3\\lib\\site-packages\\matplotlib\\backends\\backend_agg.py:180: RuntimeWarning: Glyph 24215 missing from current font.\n",
      "  font.set_text(s, 0, flags=flags)\n",
      "C:\\Users\\Administrator\\Anaconda3\\lib\\site-packages\\matplotlib\\backends\\backend_agg.py:180: RuntimeWarning: Glyph 25551 missing from current font.\n",
      "  font.set_text(s, 0, flags=flags)\n",
      "C:\\Users\\Administrator\\Anaconda3\\lib\\site-packages\\matplotlib\\backends\\backend_agg.py:180: RuntimeWarning: Glyph 36848 missing from current font.\n",
      "  font.set_text(s, 0, flags=flags)\n",
      "C:\\Users\\Administrator\\Anaconda3\\lib\\site-packages\\matplotlib\\backends\\backend_agg.py:180: RuntimeWarning: Glyph 20013 missing from current font.\n",
      "  font.set_text(s, 0, flags=flags)\n",
      "C:\\Users\\Administrator\\Anaconda3\\lib\\site-packages\\matplotlib\\backends\\backend_agg.py:180: RuntimeWarning: Glyph 30340 missing from current font.\n",
      "  font.set_text(s, 0, flags=flags)\n",
      "C:\\Users\\Administrator\\Anaconda3\\lib\\site-packages\\matplotlib\\backends\\backend_agg.py:180: RuntimeWarning: Glyph 21333 missing from current font.\n",
      "  font.set_text(s, 0, flags=flags)\n"
     ]
    },
    {
     "data": {
      "image/png": "[encoded data removed]",
      "text/plain": [
       "<Figure size 432x288 with 1 Axes>"
      ]
     },
     "metadata": {
      "needs_background": "light"
     },
     "output_type": "display_data"
    }
   ],
   "source": [
    "# 得到酒店描述中的n-gram特征中的TOP-K个\n",
    "from nltk.corpus import stopwords\n",
    "from sklearn.feature_extraction.text import CountVectorizer\n",
    "import matplotlib.pyplot as plt\n",
    "def get_top_k_words(corpus,n=1,k=None):\n",
    "    # 得到所有n-gram词\n",
    "    # 一般情况下用2-gram或者3-gram\n",
    "    vec = CountVectorizer(ngram_range=(n,n),stop_words=\"english\").fit(corpus)\n",
    "    bag_of_words = vec.transform(corpus) # 得到词频矩阵\n",
    "    \"\"\"\n",
    "    print(vec.get_feature_names())\n",
    "    print(bag_of_words.toarray())\n",
    "    \"\"\"\n",
    "    sum_words = bag_of_words.sum(axis=0)\n",
    "    words_freq = [(word,sum_words[0,index]) for word,index in vec.vocabulary_.items()]\n",
    "    # 按照词频从大到小排序\n",
    "    words_freq = sorted(words_freq,key=lambda x:x[1],reverse=True)\n",
    "    return words_freq[:k]\n",
    "top_words = get_top_k_words(df['desc'],3,20)\n",
    "# print(top_words)\n",
    "df1= pd.DataFrame(top_words,columns = ['n-gram words','count'])\n",
    "#print(df1)\n",
    "df1.groupby('n-gram words').sum()['count'].sort_values().plot(kind='barh', title='去掉停用词后，酒店描述中的Top20单词')\n",
    "plt.show()"
   ]
  },
  {
   "cell_type": "code",
   "execution_count": 57,
   "metadata": {},
   "outputs": [
    {
     "name": "stdout",
     "output_type": "stream",
     "text": [
      "                             name  \\\n",
      "0  Hilton Garden Seattle Downtown   \n",
      "1          Sheraton Grand Seattle   \n",
      "2   Crowne Plaza Seattle Downtown   \n",
      "3   Kimpton Hotel Monaco Seattle    \n",
      "4              The Westin Seattle   \n",
      "\n",
      "                                           address  \\\n",
      "0  1821 Boren Avenue, Seattle Washington 98101 USA   \n",
      "1   1400 6th Avenue, Seattle, Washington 98101 USA   \n",
      "2                  1113 6th Ave, Seattle, WA 98101   \n",
      "3                   1101 4th Ave, Seattle, WA98101   \n",
      "4   1900 5th Avenue, Seattle, Washington 98101 USA   \n",
      "\n",
      "                                                desc  \\\n",
      "0  Located on the southern tip of Lake Union, the...   \n",
      "1  Located in the city's vibrant core, the Sherat...   \n",
      "2  Located in the heart of downtown Seattle, the ...   \n",
      "3  What?s near our hotel downtown Seattle locatio...   \n",
      "4  Situated amid incredible shopping and iconic a...   \n",
      "\n",
      "                                          desc_clean  \n",
      "0  located southern tip lake union hilton garden ...  \n",
      "1  located citys vibrant core sheraton grand seat...  \n",
      "2  located heart downtown seattle awardwinning cr...  \n",
      "3  whats near hotel downtown seattle location bet...  \n",
      "4  situated amid incredible shopping iconic attra...  \n"
     ]
    }
   ],
   "source": [
    "# 文本预处理\n",
    "import re\n",
    "REPLACE_BY_SPACE_RE = re.compile('[/(){}\\[\\]\\|@,;]')\n",
    "BAD_SYMBOLS_RE = re.compile('[^0-9a-z #+_]')\n",
    "STOPWORDS = set(stopwords.words('english'))\n",
    "# 文本清晰\n",
    "def clean_text(text):\n",
    "    text = text.lower() # 全部小写\n",
    "    text = REPLACE_BY_SPACE_RE.sub(' ',text) # 特殊符号用空格替代\n",
    "    text = BAD_SYMBOLS_RE.sub('',text) # 移除bad symbols\n",
    "    text = ' '.join(word for word in text.split() if word not in STOPWORDS) # 去掉停用词\n",
    "    return text\n",
    "# 对desc字段进行清洗\n",
    "df['desc_clean'] = df['desc'].apply(clean_text)\n",
    "#print(df['desc_clean'])\n",
    "print(df.head())"
   ]
  },
  {
   "cell_type": "code",
   "execution_count": 64,
   "metadata": {},
   "outputs": [
    {
     "name": "stdout",
     "output_type": "stream",
     "text": [
      "                                    address  \\\n",
      "count                                   152   \n",
      "unique                                  152   \n",
      "top     4725 25th Ave NE, Seattle, WA 98105   \n",
      "freq                                      1   \n",
      "\n",
      "                                                     desc  \\\n",
      "count                                                 152   \n",
      "unique                                                152   \n",
      "top     Experience an upscale Pacific Northwest getawa...   \n",
      "freq                                                    1   \n",
      "\n",
      "                                               desc_clean  \n",
      "count                                                 152  \n",
      "unique                                                152  \n",
      "top     econo lodgeseatac airport north hotel seattle ...  \n",
      "freq                                                    1  \n"
     ]
    }
   ],
   "source": [
    "print(df.describe())"
   ]
  },
  {
   "cell_type": "code",
   "execution_count": 68,
   "metadata": {},
   "outputs": [
    {
     "name": "stdout",
     "output_type": "stream",
     "text": [
      "(152, 3154)\n"
     ]
    }
   ],
   "source": [
    "# 建模\n",
    "df.set_index(\"name\",inplace=True)\n",
    "# 使用TF-IDF提取文本特征\n",
    "from sklearn.feature_extraction.text import TfidfVectorizer\n",
    "tf = TfidfVectorizer(analyzer=\"word\",ngram_range=(1,3),min_df=0.01,stop_words=\"english\")\n",
    "tfidf_matrix = tf.fit_transform(df['desc_clean'])\n",
    "# print(len(tf.get_feature_names())) 3154\n",
    "print(tfidf_matrix.shape)"
   ]
  },
  {
   "cell_type": "code",
   "execution_count": 72,
   "metadata": {},
   "outputs": [
    {
     "name": "stdout",
     "output_type": "stream",
     "text": [
      "[[1.         0.0391713  0.10519839 ... 0.04506191 0.01188579 0.02732358]\n",
      " [0.0391713  1.         0.06121291 ... 0.06131857 0.01508036 0.03706011]\n",
      " [0.10519839 0.06121291 1.         ... 0.09179925 0.04235642 0.05607314]\n",
      " ...\n",
      " [0.04506191 0.06131857 0.09179925 ... 1.         0.0579826  0.04145794]\n",
      " [0.01188579 0.01508036 0.04235642 ... 0.0579826  1.         0.0172546 ]\n",
      " [0.02732358 0.03706011 0.05607314 ... 0.04145794 0.0172546  1.        ]]\n"
     ]
    }
   ],
   "source": [
    "# 计算酒店之间的余弦相似度\n",
    "from sklearn.metrics.pairwise import linear_kernel\n",
    "# 两个矩阵之间的线性关系\n",
    "cosine_similarities = linear_kernel(tfidf_matrix,tfidf_matrix) \n",
    "print(cosine_similarities)"
   ]
  },
  {
   "cell_type": "code",
   "execution_count": 73,
   "metadata": {},
   "outputs": [],
   "source": [
    "indices = pd.Series(df.index)"
   ]
  },
  {
   "cell_type": "code",
   "execution_count": 78,
   "metadata": {},
   "outputs": [],
   "source": [
    "# 基于余弦相似度矩阵和指定的酒店Name，推荐top-k酒店\n",
    "def recommendations(name,k=5,cosine_similarities=cosine_similarities):\n",
    "    recommended_hotels = []\n",
    "    index = indices[indices==name].index[0] # 找到想要查询酒店名称的index\n",
    "    print(\"index为: \",index)\n",
    "    score_series = pd.Series(cosine_similarities[index]).sort_values(ascending = False)\n",
    "    top_k_indexes = list(score_series.iloc[1:k+1].index) # 自己除外\n",
    "    for i in top_k_indexes:\n",
    "        recommended_hotels.append(list(df.index)[i])\n",
    "    return recommended_hotels"
   ]
  },
  {
   "cell_type": "code",
   "execution_count": 79,
   "metadata": {},
   "outputs": [
    {
     "name": "stdout",
     "output_type": "stream",
     "text": [
      "index为:  49\n",
      "['Embassy Suites by Hilton Seattle Tacoma International Airport', 'DoubleTree by Hilton Hotel Seattle Airport', 'Seattle Airport Marriott', 'Motel 6 Seattle Sea-Tac Airport South', 'Knights Inn Tukwila', 'Four Points by Sheraton Downtown Seattle Center', 'Radisson Hotel Seattle Airport', 'Hampton Inn Seattle/Southcenter', 'Home2 Suites by Hilton Seattle Airport', 'Red Lion Hotel Seattle Airport Sea-Tac']\n"
     ]
    }
   ],
   "source": [
    "print(recommendations('Hilton Seattle Airport & Conference Center',10))"
   ]
  },
  {
   "cell_type": "code",
   "execution_count": 80,
   "metadata": {},
   "outputs": [
    {
     "name": "stdout",
     "output_type": "stream",
     "text": [
      "index为:  116\n",
      "['11th Avenue Inn Bed and Breakfast', 'Shafer Baillie Mansion Bed & Breakfast', 'Gaslight Inn', 'Bed and Breakfast Inn Seattle', 'Chittenden House Bed and Breakfast']\n"
     ]
    }
   ],
   "source": [
    "print(recommendations('The Bacon Mansion Bed and Breakfast'))"
   ]
  },
  {
   "cell_type": "code",
   "execution_count": null,
   "metadata": {},
   "outputs": [],
   "source": []
  }
 ],
 "metadata": {
  "kernelspec": {
   "display_name": "Python 3",
   "language": "python",
   "name": "python3"
  },
  "language_info": {
   "codemirror_mode": {
    "name": "ipython",
    "version": 3
   },
   "file_extension": ".py",
   "mimetype": "text/x-python",
   "name": "python",
   "nbconvert_exporter": "python",
   "pygments_lexer": "ipython3",
   "version": "3.7.4"
  }
 },
 "nbformat": 4,
 "nbformat_minor": 2
}
