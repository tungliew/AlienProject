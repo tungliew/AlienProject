{
 "cells": [
  {
   "cell_type": "code",
   "execution_count": 2,
   "metadata": {},
   "outputs": [],
   "source": [
    "# 计算《西游记》中人物相似度\n",
    "# 使用word2vec进行训练"
   ]
  },
  {
   "cell_type": "code",
   "execution_count": 15,
   "metadata": {},
   "outputs": [],
   "source": [
    "# step1: 使用分词工具进行分词\n",
    "import jieba\n",
    "STOPWORDS = [\"的\"]\n",
    "text = open(\"journey_to_the_west.txt\",\"rb\").read()\n",
    "text_cut = jieba.cut(text)\n",
    "text_clean = []\n",
    "for word in text_cut:\n",
    "    if word not in STOPWORDS:\n",
    "        text_clean.append(word)\n",
    "result = ' '.join(text_clean).encode(\"utf-8\")\n",
    "with open(\"journey_to_the_west_clean.txt\",\"wb\") as file2:\n",
    "    file2.write(result)"
   ]
  },
  {
   "cell_type": "code",
   "execution_count": 18,
   "metadata": {},
   "outputs": [],
   "source": [
    "# step2: 将训练语料转化为一个sentence迭代器\n",
    "from gensim.models import word2vec\n",
    "sentence = word2vec.Text8Corpus(r\"journey_to_the_west_clean.txt\")"
   ]
  },
  {
   "cell_type": "code",
   "execution_count": 19,
   "metadata": {},
   "outputs": [],
   "source": [
    "# stop3：使用word2vec模型进行训练\n",
    "# window: 句子中当前单词和被预测单词的最大距离\n",
    "# size: 向量维度，default=100\n",
    "# min_count = 需要训练词语的最小出现次数, default=5\n",
    "model = word2vec.Word2Vec(sentence,size=100,window=3,min_count=1)"
   ]
  },
  {
   "cell_type": "code",
   "execution_count": 20,
   "metadata": {},
   "outputs": [
    {
     "name": "stdout",
     "output_type": "stream",
     "text": [
      "0.96984017\n",
      "0.9802698\n"
     ]
    }
   ],
   "source": [
    "# 进行相似度计算\n",
    "print(model.wv.similarity(\"孙悟空\",\"猪八戒\"))\n",
    "print(model.wv.similarity(\"孙悟空\",\"孙行者\"))"
   ]
  },
  {
   "cell_type": "code",
   "execution_count": 21,
   "metadata": {},
   "outputs": [
    {
     "name": "stdout",
     "output_type": "stream",
     "text": [
      "[('老', 0.9895405173301697), ('唐老爷', 0.9881365299224854), ('大王', 0.9867604970932007), ('二位', 0.9866136312484741), ('太师', 0.9857321381568909), ('菩萨', 0.9851403832435608), ('师兄', 0.9845676422119141), ('陛下', 0.984468400478363), ('害怕', 0.9820418357849121), ('弟子', 0.981959342956543)]\n"
     ]
    }
   ],
   "source": [
    "print(model.wv.most_similar(positive=['孙悟空', '唐僧'], negative=['孙行者']))"
   ]
  },
  {
   "cell_type": "code",
   "execution_count": 23,
   "metadata": {},
   "outputs": [],
   "source": [
    "# 使用多线程进行训练\n",
    "model2 = word2vec.Word2Vec(sentence, size=128, window=5, min_count=5, workers=multiprocessing.cpu_count())"
   ]
  },
  {
   "cell_type": "code",
   "execution_count": 24,
   "metadata": {},
   "outputs": [
    {
     "name": "stdout",
     "output_type": "stream",
     "text": [
      "0.96984017\n",
      "0.9802698\n",
      "[('老', 0.9895405173301697), ('唐老爷', 0.9881365299224854), ('大王', 0.9867604970932007), ('二位', 0.9866136312484741), ('太师', 0.9857321381568909), ('菩萨', 0.9851403832435608), ('师兄', 0.9845676422119141), ('陛下', 0.984468400478363), ('害怕', 0.9820418357849121), ('弟子', 0.981959342956543)]\n"
     ]
    }
   ],
   "source": [
    "print(model.wv.similarity(\"孙悟空\",\"猪八戒\"))\n",
    "print(model.wv.similarity(\"孙悟空\",\"孙行者\"))\n",
    "print(model.wv.most_similar(positive=['孙悟空', '唐僧'], negative=['孙行者']))"
   ]
  }
 ],
 "metadata": {
  "kernelspec": {
   "display_name": "Python 3",
   "language": "python",
   "name": "python3"
  },
  "language_info": {
   "codemirror_mode": {
    "name": "ipython",
    "version": 3
   },
   "file_extension": ".py",
   "mimetype": "text/x-python",
   "name": "python",
   "nbconvert_exporter": "python",
   "pygments_lexer": "ipython3",
   "version": "3.7.4"
  }
 },
 "nbformat": 4,
 "nbformat_minor": 2
}
