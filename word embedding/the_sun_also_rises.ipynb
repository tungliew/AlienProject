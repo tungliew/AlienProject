{
 "cells": [
  {
   "cell_type": "code",
   "execution_count": 5,
   "metadata": {},
   "outputs": [],
   "source": [
    "# 使用word2vec模型对The Sun Also Rises进行词语相似度分析\n",
    "from nltk.corpus import stopwords\n",
    "import re\n",
    "REPLACE_BY_SPACE_RE = re.compile('[/(){}\\[\\]\\|@,;]')\n",
    "BAD_SYMBOLS_RE = re.compile('[^0-9a-z #+_]')\n",
    "STOPWORDS = set(stopwords.words('english'))\n",
    "text = open(\"the_sun_also_rises.txt\",\"rb\").read()\n",
    "text = str(text)\n",
    "text = text.lower()\n",
    "text = REPLACE_BY_SPACE_RE.sub(\" \",text)\n",
    "text = BAD_SYMBOLS_RE.sub('',text)\n",
    "text = \" \".join(word for word in text.split() if word not in STOPWORDS)\n",
    "result = text.encode(\"utf-8\")\n",
    "with open(\"the_sun_also_rises_clean.txt\",\"wb\") as file:\n",
    "    file.write(result)"
   ]
  },
  {
   "cell_type": "code",
   "execution_count": 7,
   "metadata": {},
   "outputs": [],
   "source": [
    "from gensim.models import word2vec\n",
    "import multiprocessing\n",
    "sentence = word2vec.Text8Corpus(r\"the_sun_also_rises_clean.txt\")\n",
    "model = word2vec.Word2Vec(sentence,size=130,window=5,min_count=5,workers=multiprocessing.cpu_count())\n"
   ]
  },
  {
   "cell_type": "code",
   "execution_count": 13,
   "metadata": {},
   "outputs": [
    {
     "name": "stdout",
     "output_type": "stream",
     "text": [
      "0.99982786\n"
     ]
    }
   ],
   "source": [
    "print(model.wv.similarity(\"robert\",\"braddocks\"))"
   ]
  },
  {
   "cell_type": "code",
   "execution_count": null,
   "metadata": {},
   "outputs": [],
   "source": []
  }
 ],
 "metadata": {
  "kernelspec": {
   "display_name": "Python 3",
   "language": "python",
   "name": "python3"
  },
  "language_info": {
   "codemirror_mode": {
    "name": "ipython",
    "version": 3
   },
   "file_extension": ".py",
   "mimetype": "text/x-python",
   "name": "python",
   "nbconvert_exporter": "python",
   "pygments_lexer": "ipython3",
   "version": "3.7.4"
  }
 },
 "nbformat": 4,
 "nbformat_minor": 2
}
