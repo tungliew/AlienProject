{
 "cells": [
  {
   "cell_type": "code",
   "execution_count": 1,
   "metadata": {},
   "outputs": [],
   "source": [
    "# 对BreadBasket数据集进行频繁项集和关联规则挖掘\n",
    "# 数据格式：Date,Time,Transaction,Item（Data和Time没用)\n",
    "import pandas as pd\n",
    "import time"
   ]
  },
  {
   "cell_type": "code",
   "execution_count": 3,
   "metadata": {},
   "outputs": [
    {
     "name": "stdout",
     "output_type": "stream",
     "text": [
      "1         scandinavian\n",
      "2         scandinavian\n",
      "3        hot chocolate\n",
      "4                  jam\n",
      "5              cookies\n",
      "             ...      \n",
      "21288           coffee\n",
      "21289              tea\n",
      "21290           coffee\n",
      "21291           pastry\n",
      "21292        smoothies\n",
      "Name: Item, Length: 20506, dtype: object\n"
     ]
    }
   ],
   "source": [
    "# 加载数据\n",
    "df = pd.read_csv(\"BreadBasket_DMS.csv\")\n",
    "df['Item'] = df['Item'].str.lower() # 把Item中的内容全部小写\n",
    "df = df.drop(df[df.Item==\"none\"].index) #去掉none项\n",
    "print(df['Item'])"
   ]
  },
  {
   "cell_type": "code",
   "execution_count": 5,
   "metadata": {},
   "outputs": [
    {
     "name": "stdout",
     "output_type": "stream",
     "text": [
      "频繁项集:\n",
      "{1: {('alfajores',): 344, ('bread',): 3096, ('brownie',): 379, ('cake',): 983, ('coffee',): 4528, ('cookies',): 515, ('farm house',): 371, ('hot chocolate',): 552, ('juice',): 365, ('medialuna',): 585, ('muffin',): 364, ('pastry',): 815, ('sandwich',): 680, ('scandinavian',): 275, ('scone',): 327, ('soup',): 326, ('tea',): 1350, ('toast',): 318, ('truffles',): 192}, 2: {('bread', 'cake'): 221, ('bread', 'coffee'): 852, ('bread', 'pastry'): 276, ('bread', 'tea'): 266, ('cake', 'coffee'): 518, ('cake', 'tea'): 225, ('coffee', 'cookies'): 267, ('coffee', 'hot chocolate'): 280, ('coffee', 'juice'): 195, ('coffee', 'medialuna'): 333, ('coffee', 'pastry'): 450, ('coffee', 'sandwich'): 362, ('coffee', 'tea'): 472, ('coffee', 'toast'): 224}}\n",
      "关联规则:\n",
      "[{cake} -> {coffee}, {cookies} -> {coffee}, {hot chocolate} -> {coffee}, {juice} -> {coffee}, {medialuna} -> {coffee}, {pastry} -> {coffee}, {sandwich} -> {coffee}, {toast} -> {coffee}]\n",
      "用时:  1585204459.7324207\n"
     ]
    }
   ],
   "source": [
    "from efficient_apriori import apriori\n",
    "start = time.time()\n",
    "# 数据集格式转换\n",
    "transaction_series = df.set_index('Transaction')['Item']\n",
    "transactions = []\n",
    "temp_index = 0\n",
    "for index,value in transaction_series.items():\n",
    "    if index!=temp_index:\n",
    "        temp_set = set()\n",
    "        temp_set.add(value)\n",
    "        temp_index = index\n",
    "        transactions.append(temp_set)\n",
    "    else:\n",
    "        temp_set.add(value)\n",
    "# 挖掘频繁项集和关联规则\n",
    "itemsets,rule = apriori(transactions,min_support=0.02,min_confidence=0.5)\n",
    "print(\"频繁项集:\")\n",
    "print(itemsets)\n",
    "print(\"关联规则:\")\n",
    "print(rule)\n",
    "end = time.time()\n",
    "print(\"用时: \",end)"
   ]
  },
  {
   "cell_type": "code",
   "execution_count": null,
   "metadata": {},
   "outputs": [],
   "source": []
  }
 ],
 "metadata": {
  "kernelspec": {
   "display_name": "Python 3",
   "language": "python",
   "name": "python3"
  },
  "language_info": {
   "codemirror_mode": {
    "name": "ipython",
    "version": 3
   },
   "file_extension": ".py",
   "mimetype": "text/x-python",
   "name": "python",
   "nbconvert_exporter": "python",
   "pygments_lexer": "ipython3",
   "version": "3.7.4"
  }
 },
 "nbformat": 4,
 "nbformat_minor": 2
}
