{
 "cells": [
  {
   "cell_type": "code",
   "execution_count": 1,
   "metadata": {},
   "outputs": [],
   "source": [
    "# Simple PageRank\n",
    "import numpy as np"
   ]
  },
  {
   "cell_type": "code",
   "execution_count": 4,
   "metadata": {},
   "outputs": [],
   "source": [
    "#(1) 假设A,B,C,D初始影响力相同\n",
    "#(2) 进行n次迭代，直到页面的影响力不再发生变化"
   ]
  },
  {
   "cell_type": "code",
   "execution_count": 5,
   "metadata": {},
   "outputs": [
    {
     "name": "stdout",
     "output_type": "stream",
     "text": [
      "[0.375      0.20833333 0.20833333 0.20833333]\n",
      "[0.3125     0.22916667 0.22916667 0.22916667]\n",
      "[0.34375 0.21875 0.21875 0.21875]\n",
      "[0.328125   0.22395833 0.22395833 0.22395833]\n",
      "[0.3359375  0.22135417 0.22135417 0.22135417]\n",
      "[0.33203125 0.22265625 0.22265625 0.22265625]\n",
      "[0.33398438 0.22200521 0.22200521 0.22200521]\n",
      "[0.33300781 0.22233073 0.22233073 0.22233073]\n",
      "[0.33349609 0.22216797 0.22216797 0.22216797]\n",
      "[0.33325195 0.22224935 0.22224935 0.22224935]\n",
      "[0.33337402 0.22220866 0.22220866 0.22220866]\n",
      "[0.33331299 0.222229   0.222229   0.222229  ]\n",
      "[0.33334351 0.22221883 0.22221883 0.22221883]\n",
      "[0.33332825 0.22222392 0.22222392 0.22222392]\n",
      "[0.33333588 0.22222137 0.22222137 0.22222137]\n",
      "[0.33333206 0.22222265 0.22222265 0.22222265]\n",
      "[0.33333397 0.22222201 0.22222201 0.22222201]\n",
      "[0.33333302 0.22222233 0.22222233 0.22222233]\n",
      "[0.33333349 0.22222217 0.22222217 0.22222217]\n",
      "[0.33333325 0.22222225 0.22222225 0.22222225]\n",
      "[0.33333337 0.22222221 0.22222221 0.22222221]\n",
      "[0.33333331 0.22222223 0.22222223 0.22222223]\n",
      "[0.33333334 0.22222222 0.22222222 0.22222222]\n",
      "[0.33333333 0.22222222 0.22222222 0.22222222]\n",
      "[0.33333334 0.22222222 0.22222222 0.22222222]\n",
      "[0.33333333 0.22222222 0.22222222 0.22222222]\n",
      "[0.33333333 0.22222222 0.22222222 0.22222222]\n",
      "[0.33333333 0.22222222 0.22222222 0.22222222]\n",
      "[0.33333333 0.22222222 0.22222222 0.22222222]\n",
      "[0.33333333 0.22222222 0.22222222 0.22222222]\n",
      "[0.33333333 0.22222222 0.22222222 0.22222222]\n",
      "[0.33333333 0.22222222 0.22222222 0.22222222]\n",
      "[0.33333333 0.22222222 0.22222222 0.22222222]\n",
      "[0.33333333 0.22222222 0.22222222 0.22222222]\n",
      "[0.33333333 0.22222222 0.22222222 0.22222222]\n",
      "[0.33333333 0.22222222 0.22222222 0.22222222]\n",
      "[0.33333333 0.22222222 0.22222222 0.22222222]\n",
      "[0.33333333 0.22222222 0.22222222 0.22222222]\n",
      "[0.33333333 0.22222222 0.22222222 0.22222222]\n",
      "[0.33333333 0.22222222 0.22222222 0.22222222]\n",
      "[0.33333333 0.22222222 0.22222222 0.22222222]\n",
      "[0.33333333 0.22222222 0.22222222 0.22222222]\n",
      "[0.33333333 0.22222222 0.22222222 0.22222222]\n",
      "[0.33333333 0.22222222 0.22222222 0.22222222]\n",
      "[0.33333333 0.22222222 0.22222222 0.22222222]\n",
      "[0.33333333 0.22222222 0.22222222 0.22222222]\n",
      "[0.33333333 0.22222222 0.22222222 0.22222222]\n",
      "[0.33333333 0.22222222 0.22222222 0.22222222]\n",
      "[0.33333333 0.22222222 0.22222222 0.22222222]\n",
      "[0.33333333 0.22222222 0.22222222 0.22222222]\n",
      "[0.33333333 0.22222222 0.22222222 0.22222222]\n",
      "[0.33333333 0.22222222 0.22222222 0.22222222]\n",
      "[0.33333333 0.22222222 0.22222222 0.22222222]\n",
      "[0.33333333 0.22222222 0.22222222 0.22222222]\n",
      "[0.33333333 0.22222222 0.22222222 0.22222222]\n",
      "[0.33333333 0.22222222 0.22222222 0.22222222]\n",
      "[0.33333333 0.22222222 0.22222222 0.22222222]\n",
      "[0.33333333 0.22222222 0.22222222 0.22222222]\n",
      "[0.33333333 0.22222222 0.22222222 0.22222222]\n",
      "[0.33333333 0.22222222 0.22222222 0.22222222]\n",
      "[0.33333333 0.22222222 0.22222222 0.22222222]\n",
      "[0.33333333 0.22222222 0.22222222 0.22222222]\n",
      "[0.33333333 0.22222222 0.22222222 0.22222222]\n",
      "[0.33333333 0.22222222 0.22222222 0.22222222]\n",
      "[0.33333333 0.22222222 0.22222222 0.22222222]\n",
      "[0.33333333 0.22222222 0.22222222 0.22222222]\n",
      "[0.33333333 0.22222222 0.22222222 0.22222222]\n",
      "[0.33333333 0.22222222 0.22222222 0.22222222]\n",
      "[0.33333333 0.22222222 0.22222222 0.22222222]\n",
      "[0.33333333 0.22222222 0.22222222 0.22222222]\n",
      "[0.33333333 0.22222222 0.22222222 0.22222222]\n",
      "[0.33333333 0.22222222 0.22222222 0.22222222]\n",
      "[0.33333333 0.22222222 0.22222222 0.22222222]\n",
      "[0.33333333 0.22222222 0.22222222 0.22222222]\n",
      "[0.33333333 0.22222222 0.22222222 0.22222222]\n",
      "[0.33333333 0.22222222 0.22222222 0.22222222]\n",
      "[0.33333333 0.22222222 0.22222222 0.22222222]\n",
      "[0.33333333 0.22222222 0.22222222 0.22222222]\n",
      "[0.33333333 0.22222222 0.22222222 0.22222222]\n",
      "[0.33333333 0.22222222 0.22222222 0.22222222]\n",
      "[0.33333333 0.22222222 0.22222222 0.22222222]\n",
      "[0.33333333 0.22222222 0.22222222 0.22222222]\n",
      "[0.33333333 0.22222222 0.22222222 0.22222222]\n",
      "[0.33333333 0.22222222 0.22222222 0.22222222]\n",
      "[0.33333333 0.22222222 0.22222222 0.22222222]\n",
      "[0.33333333 0.22222222 0.22222222 0.22222222]\n",
      "[0.33333333 0.22222222 0.22222222 0.22222222]\n",
      "[0.33333333 0.22222222 0.22222222 0.22222222]\n",
      "[0.33333333 0.22222222 0.22222222 0.22222222]\n",
      "[0.33333333 0.22222222 0.22222222 0.22222222]\n",
      "[0.33333333 0.22222222 0.22222222 0.22222222]\n",
      "[0.33333333 0.22222222 0.22222222 0.22222222]\n",
      "[0.33333333 0.22222222 0.22222222 0.22222222]\n",
      "[0.33333333 0.22222222 0.22222222 0.22222222]\n",
      "[0.33333333 0.22222222 0.22222222 0.22222222]\n",
      "[0.33333333 0.22222222 0.22222222 0.22222222]\n",
      "[0.33333333 0.22222222 0.22222222 0.22222222]\n",
      "[0.33333333 0.22222222 0.22222222 0.22222222]\n",
      "[0.33333333 0.22222222 0.22222222 0.22222222]\n",
      "[0.33333333 0.22222222 0.22222222 0.22222222]\n"
     ]
    }
   ],
   "source": [
    "# PageRank简单模型\n",
    "a = np.array([[0,1/2,1,0],\n",
    "              [1/3,0,0,1/2],\n",
    "              [1/3,0,0,1/2],\n",
    "              [1/3,1/2,0,0]])\n",
    "b = np.array([1/4,1/4,1/4,1/4])\n",
    "w = b \n",
    "for i in range(100):\n",
    "    w = np.dot(a,w)\n",
    "    print(w)"
   ]
  },
  {
   "cell_type": "code",
   "execution_count": 6,
   "metadata": {},
   "outputs": [],
   "source": [
    "# PageRank随机浏览模型\n",
    "def random_work(a,w,n):\n",
    "    d = 0.85\n",
    "    for i in range(100):\n",
    "        w = (1-d)/n+d*np.dot(a,w)\n",
    "        print(w)"
   ]
  },
  {
   "cell_type": "code",
   "execution_count": 8,
   "metadata": {},
   "outputs": [],
   "source": [
    "# PageRank工具使用\n",
    "import networkx as nx"
   ]
  },
  {
   "cell_type": "code",
   "execution_count": 9,
   "metadata": {},
   "outputs": [
    {
     "name": "stdout",
     "output_type": "stream",
     "text": [
      "pagerank值为:  {'A': 0.33333396911621094, 'B': 0.22222201029459634, 'C': 0.22222201029459634, 'D': 0.22222201029459634}\n"
     ]
    }
   ],
   "source": [
    "G = nx.DiGraph() #创建有向图\n",
    "edges = [(\"A\",\"B\"),(\"A\",\"C\"),(\"A\",\"D\"),\n",
    "         (\"B\",\"A\"),(\"B\",\"D\"),\n",
    "         (\"C\",\"A\"),\n",
    "         (\"D\",\"B\"),(\"D\",\"C\")]\n",
    "for edge in edges:\n",
    "    G.add_edge(edge[0],edge[1])\n",
    "pagerank_list = nx.pagerank(G,alpha=1)\n",
    "print(\"pagerank值为: \",pagerank_list)"
   ]
  },
  {
   "cell_type": "code",
   "execution_count": 11,
   "metadata": {},
   "outputs": [
    {
     "name": "stdout",
     "output_type": "stream",
     "text": [
      "['A', 'B', 'C', 'D']\n",
      "4\n"
     ]
    }
   ],
   "source": [
    "# 获取图中所有节点\n",
    "print(G.nodes())\n",
    "# 获取图中所有节点个数\n",
    "print(G.number_of_nodes())"
   ]
  },
  {
   "cell_type": "markdown",
   "metadata": {},
   "source": [
    "###### G.add_weighted_edges_from()\n",
    "###### [u,v,w] 为参数, 分别代表起点、终点、quanzhong"
   ]
  },
  {
   "cell_type": "code",
   "execution_count": 13,
   "metadata": {},
   "outputs": [],
   "source": [
    "import matplotlib.pyplot as plt"
   ]
  },
  {
   "cell_type": "code",
   "execution_count": 14,
   "metadata": {},
   "outputs": [
    {
     "name": "stderr",
     "output_type": "stream",
     "text": [
      "C:\\Users\\Administrator\\Anaconda3\\lib\\site-packages\\networkx\\drawing\\nx_pylab.py:579: MatplotlibDeprecationWarning: \n",
      "The iterable function was deprecated in Matplotlib 3.1 and will be removed in 3.3. Use np.iterable instead.\n",
      "  if not cb.iterable(width):\n",
      "C:\\Users\\Administrator\\Anaconda3\\lib\\site-packages\\networkx\\drawing\\nx_pylab.py:676: MatplotlibDeprecationWarning: \n",
      "The iterable function was deprecated in Matplotlib 3.1 and will be removed in 3.3. Use np.iterable instead.\n",
      "  if cb.iterable(node_size):  # many node sizes\n"
     ]
    },
    {
     "data": {
      "image/png": "[encoded data removed]",
      "text/plain": [
       "<Figure size 432x288 with 1 Axes>"
      ]
     },
     "metadata": {},
     "output_type": "display_data"
    }
   ],
   "source": [
    "# spring_layout 中心放射状\n",
    "# circular_layout 在一个圆环上均匀分布节点\n",
    "# random_layout 随机节点分布\n",
    "# shell_layout 节点都在同心圆上\n",
    "layout = nx.spring_layout(G)\n",
    "nx.draw(G,pos=layout,with_labels=True,hold=False)\n",
    "plt.show()"
   ]
  },
  {
   "cell_type": "code",
   "execution_count": 15,
   "metadata": {},
   "outputs": [
    {
     "name": "stdout",
     "output_type": "stream",
     "text": [
      "简化模型: {'A': 0.33333396911621094, 'B': 0.22222201029459634, 'C': 0.22222201029459634, 'D': 0.22222201029459634}\n",
      "随机浏览模型: {'A': 0.3214290507775999, 'B': 0.22619031640746662, 'C': 0.22619031640746662, 'D': 0.22619031640746662}\n"
     ]
    }
   ],
   "source": [
    "# 计算简化模型pr值\n",
    "pr = nx.pagerank(G,alpha=1)\n",
    "print(\"简化模型:\",pr)\n",
    "# 计算随机浏览模型pr值\n",
    "pr = nx.pagerank(G,alpha=0.8)\n",
    "print(\"随机浏览模型:\",pr)"
   ]
  },
  {
   "cell_type": "code",
   "execution_count": null,
   "metadata": {},
   "outputs": [],
   "source": []
  }
 ],
 "metadata": {
  "kernelspec": {
   "display_name": "Python 3",
   "language": "python",
   "name": "python3"
  },
  "language_info": {
   "codemirror_mode": {
    "name": "ipython",
    "version": 3
   },
   "file_extension": ".py",
   "mimetype": "text/x-python",
   "name": "python",
   "nbconvert_exporter": "python",
   "pygments_lexer": "ipython3",
   "version": "3.7.4"
  }
 },
 "nbformat": 4,
 "nbformat_minor": 2
}
